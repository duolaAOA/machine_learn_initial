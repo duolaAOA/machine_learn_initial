{
 "cells": [
  {
   "cell_type": "code",
   "execution_count": 1,
   "metadata": {},
   "outputs": [
    {
     "data": {
      "text/plain": [
       "'\\nDBSCAN算法将数据点分为三类：\\n• 核心点：在半径Eps内含有超过MinPts数目的点\\n• 边界点：在半径Eps内点的数量小于MinPts，但是落在核心点的邻域内\\n• 噪音点：既不是核心点也不是边界点的点\\n\\n'"
      ]
     },
     "execution_count": 1,
     "metadata": {},
     "output_type": "execute_result"
    }
   ],
   "source": [
    "\"\"\"\n",
    "DBSCAN算法将数据点分为三类：\n",
    "• 核心点：在半径Eps内含有超过MinPts数目的点\n",
    "• 边界点：在半径Eps内点的数量小于MinPts，但是落在核心点的邻域内\n",
    "• 噪音点：既不是核心点也不是边界点的点\n",
    "\n",
    "\"\"\""
   ]
  },
  {
   "cell_type": "code",
   "execution_count": 4,
   "metadata": {},
   "outputs": [
    {
     "name": "stdout",
     "output_type": "stream",
     "text": [
      "Labels:\n",
      "[ 0 -1  0  1 -1  1  0  1  2 -1  1  0  1  1  3 -1 -1  3 -1  1  1 -1  1  3\n",
      "  4 -1  1  1  2  0  2  2 -1  0  1  0  0  0  1  3 -1  0  1  1  0  0  2 -1\n",
      "  1  3  1 -1  3 -1  3  0  1  1  2  3  3 -1 -1 -1  0  1  2  1 -1  3  1  1\n",
      "  2  3  0  1 -1  2  0  0  3  2  0  1 -1  1  3 -1  4  2 -1 -1  0 -1  3 -1\n",
      "  0  2  1 -1 -1  2  1  1  2  0  2  1  1  3  3  0  1  2  0  1  0 -1  1  1\n",
      "  3 -1  2  1  3  1  1  1  2 -1  5 -1  1  3 -1  0  1  0  0  1 -1 -1 -1  2\n",
      "  2  0  1  1  3  0  0  0  1  4  4 -1 -1 -1 -1  4 -1  4  4 -1  4 -1  1  2\n",
      "  2  3  0  1  0 -1  1  0  0  1 -1 -1  0  2  1  0  2 -1  1  1 -1 -1  0  1\n",
      "  1 -1  3  1  1 -1  1  1  0  0 -1  0 -1  0  0  2 -1  1 -1  1  0 -1  2  1\n",
      "  3  1  1 -1  1  0  0 -1  0  0  3  2  0  0  5 -1  3  2 -1  5  4  4  4 -1\n",
      "  5  5 -1  4  0  4  4  4  5  4  4  5  5  0  5  4 -1  4  5  5  5  1  5  5\n",
      "  0  5  4  4 -1  4  4  5  4  0  5  4 -1  0  5  5  5 -1  4  5  5  5  5  4\n",
      "  4]\n",
      "Noise raito: 22.15%\n",
      "Estimated number of clusters: 6\n",
      "Silhouette Coefficient: 0.710\n",
      "Cluster  0 :\n",
      "[22, 22, 22, 22, 22, 22, 22, 22, 22, 22, 22, 22, 22, 22, 22, 22, 22, 22, 22, 22, 22, 22, 22, 22, 22, 22, 22, 22, 22, 22, 22, 22, 22, 22, 22, 22, 22, 22, 22, 22, 22, 22, 22, 22, 22, 22, 22, 22, 22, 22, 22, 22, 22, 22, 22]\n",
      "Cluster  1 :\n",
      "[23, 23, 23, 23, 23, 23, 23, 23, 23, 23, 23, 23, 23, 23, 23, 23, 23, 23, 23, 23, 23, 23, 23, 23, 23, 23, 23, 23, 23, 23, 23, 23, 23, 23, 23, 23, 23, 23, 23, 23, 23, 23, 23, 23, 23, 23, 23, 23, 23, 23, 23, 23, 23, 23, 23, 23, 23, 23, 23, 23, 23, 23, 23, 23, 23]\n",
      "Cluster  2 :\n",
      "[20, 20, 20, 20, 20, 20, 20, 20, 20, 20, 20, 20, 20, 20, 20, 20, 20, 20, 20, 20, 20, 20, 20, 20, 20, 20, 20, 20]\n",
      "Cluster  3 :\n",
      "[21, 21, 21, 21, 21, 21, 21, 21, 21, 21, 21, 21, 21, 21, 21, 21, 21, 21, 21, 21, 21, 21, 21, 21, 21]\n",
      "Cluster  4 :\n",
      "[8, 8, 8, 8, 8, 8, 8, 8, 8, 8, 8, 8, 8, 8, 8, 8, 8, 8, 8, 8, 8, 8, 8, 8, 8, 8, 8, 8]\n",
      "Cluster  5 :\n",
      "[7, 7, 7, 7, 7, 7, 7, 7, 7, 7, 7, 7, 7, 7, 7, 7, 7, 7, 7, 7, 7, 7, 7, 7]\n",
      "(array([ 1.,  0.,  1.,  0.,  0.,  2.,  2., 24., 28.,  3.,  8.,  4.,  5.,\n",
      "        4.,  4.,  5.,  7.,  3.,  8.,  7., 28., 25., 55., 65.]), array([ 0.        ,  0.95833333,  1.91666667,  2.875     ,  3.83333333,\n",
      "        4.79166667,  5.75      ,  6.70833333,  7.66666667,  8.625     ,\n",
      "        9.58333333, 10.54166667, 11.5       , 12.45833333, 13.41666667,\n",
      "       14.375     , 15.33333333, 16.29166667, 17.25      , 18.20833333,\n",
      "       19.16666667, 20.125     , 21.08333333, 22.04166667, 23.        ]), <a list of 24 Patch objects>)\n"
     ]
    },
    {
     "data": {
      "image/png": "[encoded data removed]",
      "text/plain": [
       "<Figure size 432x288 with 1 Axes>"
      ]
     },
     "metadata": {},
     "output_type": "display_data"
    }
   ],
   "source": [
    "import numpy as np\n",
    "import sklearn.cluster as skc\n",
    "from sklearn import metrics\n",
    "import matplotlib.pyplot as plt\n",
    "\n",
    "mac2id = dict()\n",
    "onlinetimes = []\n",
    "f = open('StudentMonthlyOnlineTimeDistribution..txt', encoding='utf-8')\n",
    "for line in f:\n",
    "    mac = line.split(',')[2]\n",
    "    onlinetime = int(line.split(',')[6])\n",
    "    starttime = int(line.split(',')[4].split(' ')[1].split(':')[0])\n",
    "    if mac not in mac2id:\n",
    "        mac2id[mac] = len(onlinetimes)\n",
    "        onlinetimes.append((starttime, onlinetime))\n",
    "    else:\n",
    "        onlinetimes[mac2id[mac]] = [(starttime, onlinetime)]\n",
    "real_X = np.array(onlinetimes).reshape((-1, 2))\n",
    "\n",
    "X = real_X[:, 0:1]\n",
    "\n",
    "db = skc.DBSCAN(eps=0.01, min_samples=20).fit(X)\n",
    "labels = db.labels_         # 调 用 DBSCAN 方 法 进 行 训 练 ，labels为每个数据的簇标签\n",
    "\n",
    "print('Labels:')\n",
    "print(labels)\n",
    "raito = len(labels[labels[:] == -1]) / len(labels)\n",
    "print('Noise raito:', format(raito, '.2%'))         # 打印数据被记上的标签，计算标签为-1，即噪声数据的比例\n",
    "\n",
    "n_clusters_ = len(set(labels)) - (1 if -1 in labels else 0)\n",
    "\n",
    "print('Estimated number of clusters: %d' % n_clusters_)\n",
    "print(\"Silhouette Coefficient: %0.3f\" % metrics.silhouette_score(X, labels))  # 计算簇的个数并打印，评价聚类效果\n",
    "\n",
    "for i in range(n_clusters_):\n",
    "    print('Cluster ', i, ':')\n",
    "    print(list(X[labels == i].flatten()))   # 打印各簇标号以及各簇内数据\n",
    "\n",
    "print(plt.hist(X, 24))  # 画出直方图观察结"
   ]
  },
  {
   "cell_type": "code",
   "execution_count": null,
   "metadata": {},
   "outputs": [],
   "source": [
    "\"\"\"\n",
    "DBSCAN密度聚类\n",
    "DBSCAN主要参数：\n",
    "eps: 两个样本被看作邻居节点的最大距离\n",
    "min_samples: 簇的样本数\n",
    "metric：距离计算方式\n",
    "\n",
    "DBSCAN算法流程：\n",
    "1.将所有点标记为核心点、边界点或噪声点；\n",
    "2.删除噪声点；\n",
    "3.为距离在Eps之内的所有核心点之间赋予一条边；\n",
    "4.每组连通的核心点形成一个簇；\n",
    "5.将每个边界点指派到一个与之关联的核心点的簇中（哪一个核心点的半\n",
    "径范围之内）\n",
    "\n",
    "\"\"\""
   ]
  }
 ],
 "metadata": {
  "kernelspec": {
   "display_name": "Python 3",
   "language": "python",
   "name": "python3"
  },
  "language_info": {
   "codemirror_mode": {
    "name": "ipython",
    "version": 3
   },
   "file_extension": ".py",
   "mimetype": "text/x-python",
   "name": "python",
   "nbconvert_exporter": "python",
   "pygments_lexer": "ipython3",
   "version": "3.6.2"
  }
 },
 "nbformat": 4,
 "nbformat_minor": 2
}
