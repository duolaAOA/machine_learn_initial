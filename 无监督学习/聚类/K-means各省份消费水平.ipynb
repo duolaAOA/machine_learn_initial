{
 "cells": [
  {
   "cell_type": "code",
   "execution_count": 15,
   "metadata": {},
   "outputs": [
    {
     "name": "stdout",
     "output_type": "stream",
     "text": [
      "Expenses:3788.76\n",
      "['河北', '山西', '内蒙古', '辽宁', '吉林', '黑龙江', '江西', '山东', '河南', '贵州', '陕西', '甘肃', '青海', '宁夏', '新疆']\n",
      "Expenses:5678.62\n",
      "['天津', '浙江', '福建', '重庆', '西藏']\n",
      "Expenses:4512.27\n",
      "['江苏', '安徽', '湖南', '湖北', '广西', '海南', '四川', '云南']\n",
      "Expenses:7754.66\n",
      "['北京', '上海', '广东']\n"
     ]
    }
   ],
   "source": [
    "import numpy as np\n",
    "from sklearn.cluster import KMeans\n",
    "\n",
    "def load_data(file_path):\n",
    "    with open(file_path, 'r+') as f:\n",
    "        lines = f.readlines()\n",
    "        retData = []\n",
    "        retCityName = []\n",
    "        for line in lines:\n",
    "            items = line.strip().split(\",\")\n",
    "            retCityName.append(items[0])\n",
    "            retData.append([float(items[i]) for i in range(1,len(items))])\n",
    "        return retData, retCityName\n",
    "\n",
    "if __name__ == \"__main__\":\n",
    "    data, cityName = load_data(\"urban_consumption_level.txt\")\n",
    "    km = KMeans(n_clusters=4)   # 聚成4类时\n",
    "    label = km.fit_predict(data)\n",
    "    expenses = np.sum(km.cluster_centers_,axis=1)\n",
    "    #print(expenses)\n",
    "    CityCluster = [[],[],[],[]]\n",
    "    for i in range(len(cityName)):    # 将城市按label分成设定的簇\n",
    "        CityCluster[label[i]].append(cityName[i])    # 每个簇的城市\n",
    "    for i in range(len(CityCluster)):    # 每个簇的平均花费\n",
    "        print(\"Expenses:%.2f\" % expenses[i])\n",
    "        print(CityCluster[i])\n",
    "# 将城市按照消费水平n_clusters类，消费水平相近的城市聚集在一类中\n",
    "# expense：聚类中心点的数值加和，也就是平均消费平"
   ]
  },
  {
   "cell_type": "code",
   "execution_count": null,
   "metadata": {},
   "outputs": [],
   "source": [
    "\"\"\"\n",
    " K-means聚类算法\n",
    " 加载数据，创建K-means算法实例，并进行训练，获得标签\n",
    " KMeans参数:\n",
    " n_clusters：用于指定聚类中心的个数\n",
    " init：初始聚类中心的初始化方法\n",
    " max_iter：最大的迭代次数\n",
    " 一般调用时只用给出n_clusters即可，init\n",
    " 默认是k-means++，max_iter默认是300\n",
    " \n",
    " 其它参数\n",
    " data：加载的数据\n",
    " label：聚类后各数据所属的标签\n",
    " axis: 按行求和\n",
    " fit_predict()：计算簇中心以及为簇分配序号\n",
    "\"\"\" "
   ]
  }
 ],
 "metadata": {
  "kernelspec": {
   "display_name": "Python 3",
   "language": "python",
   "name": "python3"
  },
  "language_info": {
   "codemirror_mode": {
    "name": "ipython",
    "version": 3
   },
   "file_extension": ".py",
   "mimetype": "text/x-python",
   "name": "python",
   "nbconvert_exporter": "python",
   "pygments_lexer": "ipython3",
   "version": "3.6.2"
  }
 },
 "nbformat": 4,
 "nbformat_minor": 2
}
