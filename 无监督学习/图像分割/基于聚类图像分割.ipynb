{
 "cells": [
  {
   "cell_type": "code",
   "execution_count": 4,
   "metadata": {},
   "outputs": [],
   "source": [
    "图像分割常用方法：\n",
    "1. 阈值分割：对图像灰度值进行度量，设置不同类别的阈值，达到分割的目的。\n",
    "2. 边缘分割：对图像边缘进行检测，即检测图像中灰度值发生跳变的地方，则为一片\n",
    "区域的边缘。\n",
    "3. 直方图法：对图像的颜色建立直方图，而直方图的波峰波谷能够表示一块区域的颜\n",
    "色值的范围，来达到分割的目的。\n",
    "4. 特定理论：基于聚类分析、小波变换等理论完成图像分割"
   ]
  },
  {
   "cell_type": "code",
   "execution_count": 10,
   "metadata": {},
   "outputs": [],
   "source": [
    "import numpy as np\n",
    "import PIL.Image as image\n",
    "from sklearn.cluster import KMeans\n",
    "\n",
    "def loadData(filePath):\n",
    "    f = open(filePath,'rb')\n",
    "    data = []\n",
    "    img = image.open(f)\n",
    "    m,n = img.size\n",
    "    for i in range(m):\n",
    "        for j in range(n):\n",
    "            x,y,z = img.getpixel((i,j))\n",
    "            data.append([x/256.0,y/256.0,z/256.0])\n",
    "    f.close()\n",
    "    return np.mat(data),m,n"
   ]
  },
  {
   "cell_type": "code",
   "execution_count": 11,
   "metadata": {},
   "outputs": [],
   "source": [
    "imgData,row,col = loadData('1.jpg')\n",
    "label = KMeans(n_clusters=4).fit_predict(imgData)\n",
    "\n",
    "label = label.reshape([row,col])\n",
    "pic_new = image.new(\"L\", (row, col))\n",
    "for i in range(row):\n",
    "    for j in range(col):\n",
    "        pic_new.putpixel((i,j), int(256/(label[i][j]+1)))\n",
    "pic_new.save(\"result-2.jpg\", \"JPEG\")"
   ]
  },
  {
   "cell_type": "code",
   "execution_count": null,
   "metadata": {},
   "outputs": [],
   "source": [
    "通过设置不同的k值，能够得到不同的聚类结果。同时，k值的不确定也\n",
    "是Kmeans算法的一个缺点。往往为了达到好的实验结果，需要进行多次尝\n",
    "试才能够选取最优的k值。而像层次聚类的算法，就无需指定k值，只要给\n",
    "定限制条件，就能自动地得到类别数k"
   ]
  }
 ],
 "metadata": {
  "kernelspec": {
   "display_name": "Python 3",
   "language": "python",
   "name": "python3"
  },
  "language_info": {
   "codemirror_mode": {
    "name": "ipython",
    "version": 3
   },
   "file_extension": ".py",
   "mimetype": "text/x-python",
   "name": "python",
   "nbconvert_exporter": "python",
   "pygments_lexer": "ipython3",
   "version": "3.6.2"
  }
 },
 "nbformat": 4,
 "nbformat_minor": 2
}
