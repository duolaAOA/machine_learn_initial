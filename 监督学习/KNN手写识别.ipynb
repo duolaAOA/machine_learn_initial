{
 "cells": [
  {
   "cell_type": "code",
   "execution_count": 2,
   "metadata": {
    "scrolled": true
   },
   "outputs": [
    {
     "data": {
      "text/plain": [
       "KNeighborsClassifier(algorithm='kd_tree', leaf_size=30, metric='minkowski',\n",
       "           metric_params=None, n_jobs=1, n_neighbors=3, p=2,\n",
       "           weights='uniform')"
      ]
     },
     "execution_count": 2,
     "metadata": {},
     "output_type": "execute_result"
    }
   ],
   "source": [
    "import numpy as np    \n",
    "from os import listdir\n",
    "from sklearn import neighbors\n",
    "\n",
    "# 加载训练数据\n",
    "def img2vector(fileName):    \n",
    "    retMat = np.zeros([1024],int) #定义返回的矩阵，大小为1*1024\n",
    "    fr = open(fileName)           #打开包含32*32大小的数字文件 \n",
    "    lines = fr.readlines()        #读取文件的所有行\n",
    "    for i in range(32):           #遍历文件所有行\n",
    "        for j in range(32):       #并将01数字存放在retMat中     \n",
    "            retMat[i*32+j] = lines[i][j] \n",
    "    return retMat\n",
    "            \n",
    "def readDataSet(path):    \n",
    "    fileList = listdir(path)    #获取文件夹下的所有文件 \n",
    "    numFiles = len(fileList)    #统计需要读取的文件的数目\n",
    "    dataSet = np.zeros([numFiles,1024],int)    #用于存放所有的数字文件\n",
    "    hwLabels = np.zeros([numFiles])#用于存放对应的标签(与神经网络的不同)\n",
    "    for i in range(numFiles):      #遍历所有的文件\n",
    "        filePath = fileList[i]     #获取文件名称/路径   \n",
    "        digit = int(filePath.split('_')[0])   #通过文件名获取标签     \n",
    "        hwLabels[i] = digit        #直接存放数字，并非one-hot向量\n",
    "        dataSet[i] = img2vector(path +'/'+filePath)    #读取文件内容 \n",
    "    return dataSet,hwLabels\n",
    "\n",
    "train_dataSet, train_hwLabels = readDataSet('./data/handwrite/digits/trainingDigits')\n",
    "\n",
    "# 构建KNN分类器\n",
    "#  KNN是一种懒惰学习法，没有学习过程，只在预测时去查找最近邻的点，\n",
    "# 数据集的输入就是构建KNN分类器的过程\n",
    "knn = neighbors.KNeighborsClassifier(algorithm='kd_tree', n_neighbors=3)\n",
    "knn.fit(train_dataSet, train_hwLabels)"
   ]
  },
  {
   "cell_type": "code",
   "execution_count": 5,
   "metadata": {},
   "outputs": [
    {
     "name": "stdout",
     "output_type": "stream",
     "text": [
      "Total num: 946  Wrong num: 12   WrongRate: 0.012684989429175475\n"
     ]
    }
   ],
   "source": [
    "# 测试集评价\n",
    "dataSet,hwLabels = readDataSet('./data/handwrite/digits/testDigits')\n",
    "res = knn.predict(dataSet)  #对测试集进行预测\n",
    "error_num = np.sum(res != hwLabels) #统计分类错误的数目\n",
    "num = len(dataSet)          #测试集的数目\n",
    "print(\"Total num:\",num,\" Wrong num:\", \\\n",
    "      error_num,\"  WrongRate:\",error_num / float(num))"
   ]
  },
  {
   "cell_type": "code",
   "execution_count": null,
   "metadata": {},
   "outputs": [],
   "source": [
    "以上为邻居为3的实验结果\n",
    "K=3时正确率最高，当K>3时正确率开始下降，这是由于当样本为稀疏数据集时（本实\n",
    "例只有946个样本），其第k个邻居点可能与测试点距离较远，因此投出了错误的一票进而\n",
    "影响了最终预测结果\n",
    "\n",
    "KNN分类器vs.多层感知机:\n",
    "KNN的准确率远高于MLP分类器，这是由于MLP在小数据集上容易过拟合的原因。\n",
    "MLP对于参数的调整比较敏感，若参数设置不合理，容易得到较差的分类效果，因此参数的\n",
    "设置对于MLP至关重要。"
   ]
  }
 ],
 "metadata": {
  "kernelspec": {
   "display_name": "Python 3",
   "language": "python",
   "name": "python3"
  },
  "language_info": {
   "codemirror_mode": {
    "name": "ipython",
    "version": 3
   },
   "file_extension": ".py",
   "mimetype": "text/x-python",
   "name": "python",
   "nbconvert_exporter": "python",
   "pygments_lexer": "ipython3",
   "version": "3.6.2"
  }
 },
 "nbformat": 4,
 "nbformat_minor": 2
}
