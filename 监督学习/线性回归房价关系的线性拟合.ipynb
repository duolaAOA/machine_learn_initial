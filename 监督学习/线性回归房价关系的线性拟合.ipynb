{
 "cells": [
  {
   "cell_type": "code",
   "execution_count": 1,
   "metadata": {},
   "outputs": [
    {
     "data": {
      "text/plain": [
       "LinearRegression(copy_X=True, fit_intercept=True, n_jobs=1, normalize=False)"
      ]
     },
     "execution_count": 1,
     "metadata": {},
     "output_type": "execute_result"
    }
   ],
   "source": [
    "import matplotlib.pyplot as plt\n",
    "import numpy as np\n",
    "from sklearn import linear_model\n",
    "\n",
    "# 读取数据集\n",
    "# 存储房屋尺寸与成交价格\n",
    "datasets_X = []\n",
    "datasets_Y = []\n",
    "fr = open('./data/prices.txt','r')\n",
    "lines = fr.readlines()\n",
    "for line in lines:\n",
    "    items = line.strip().split(',')\n",
    "    datasets_X.append(int(items[0]))\n",
    "    datasets_Y.append(int(items[1]))\n",
    "    \n",
    "length = len(datasets_X)\n",
    "# 转为二维数组， 以符合线性回归拟合函数输入要求\n",
    "datasets_X = np.array(datasets_X).reshape([length,1])\n",
    "datasets_Y = np.array(datasets_Y)\n",
    "\n",
    "minX = min(datasets_X)\n",
    "maxX = max(datasets_X)\n",
    "# 以数据datasets_X的最大值和最小值为范围，建立等差数列，方便后续画图。\n",
    "X = np.arange(minX,maxX).reshape([-1,1])\n",
    "\n",
    "# 调用线性回归模块，建立回归方程，拟合数据\n",
    "linear = linear_model.LinearRegression()\n",
    "linear.fit(datasets_X, datasets_Y)"
   ]
  },
  {
   "cell_type": "code",
   "execution_count": 2,
   "metadata": {},
   "outputs": [
    {
     "data": {
      "image/png": "[encoded data removed]",
      "text/plain": [
       "<Figure size 432x288 with 1 Axes>"
      ]
     },
     "metadata": {},
     "output_type": "display_data"
    }
   ],
   "source": [
    "# 图像中显示\n",
    "plt.scatter(datasets_X, datasets_Y, color = 'red')\n",
    "plt.plot(X, linear.predict(X), color = 'blue')\n",
    "plt.xlabel('Area')\n",
    "plt.ylabel('Price')\n",
    "plt.show()"
   ]
  },
  {
   "cell_type": "code",
   "execution_count": null,
   "metadata": {},
   "outputs": [],
   "source": [
    "调用sklearn.linear_model.LinearRegression()所需参数：\n",
    "• fit_intercept : 布尔型参数，表示是否计算该模型截距。可选参数。\n",
    "• normalize : 布尔型参数，若为True，则X在回归前进行归一化。可选参数。默认值为False。\n",
    "• copy_X : 布尔型参数，若为True，则X将被复制；否则将被覆盖。可选参数。默认值为True。\n",
    "• n_jobs : 整型参数，表示用于计算的作业数量；若为-1，则用所有的CPU。可选参数。默认值为1\n",
    "    \n",
    "线性回归fit函数用于拟合输入输出数据，调用形式为linear.fit(X,y, sample_weight=None)：\n",
    "• X : X为训练向量；\n",
    "• y : y为相对于X的目标向量；\n",
    "• sample_weight : 分配给各个样本的权重数组，一般不需要使用，可省略\n",
    "    \n",
    "#查看回归方程系数\n",
    "print('Coefficients:', linear.coef_)\n",
    "#查看回归方程截距\n",
    "print('intercept:', linear.intercept_)    "
   ]
  }
 ],
 "metadata": {
  "kernelspec": {
   "display_name": "Python 3",
   "language": "python",
   "name": "python3"
  },
  "language_info": {
   "codemirror_mode": {
    "name": "ipython",
    "version": 3
   },
   "file_extension": ".py",
   "mimetype": "text/x-python",
   "name": "python",
   "nbconvert_exporter": "python",
   "pygments_lexer": "ipython3",
   "version": "3.6.2"
  }
 },
 "nbformat": 4,
 "nbformat_minor": 2
}
